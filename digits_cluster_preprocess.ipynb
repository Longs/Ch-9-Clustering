{
 "cells": [
  {
   "cell_type": "code",
   "execution_count": 2,
   "metadata": {},
   "outputs": [],
   "source": [
    "from sklearn.datasets import load_digits\n",
    "from sklearn.model_selection import train_test_split\n",
    "X_digits, y_digits = load_digits(return_X_y=True)\n",
    "\n",
    "X_train, X_test, y_train, y_test = train_test_split(X_digits,y_digits)\n",
    "\n",
    "\n"
   ]
  },
  {
   "cell_type": "code",
   "execution_count": 3,
   "metadata": {},
   "outputs": [],
   "source": [
    "#Need to scale the data for Logistic Regression otherwise it won't converge\n",
    "from sklearn.preprocessing import StandardScaler\n",
    "\n",
    "scaler = StandardScaler()\n",
    "scaler.fit(X_train)\n",
    "\n",
    "X_train_scaled = scaler.transform(X_train)\n",
    "X_test_scaled = scaler.transform(X_test)\n"
   ]
  },
  {
   "cell_type": "code",
   "execution_count": 26,
   "metadata": {},
   "outputs": [
    {
     "data": {
      "text/plain": [
       "array([ 0.,  0.,  0.,  4., 15.,  6.,  0.,  0.,  0.,  0.,  0., 13., 13.,\n",
       "        1.,  0.,  0.,  0.,  0.,  7., 16.,  2.,  0.,  0.,  0.,  0.,  4.,\n",
       "       15.,  8.,  0.,  5.,  0.,  0.,  0., 11., 14.,  1.,  6., 16.,  5.,\n",
       "        0.,  1., 16., 14., 12., 16., 16.,  3.,  0.,  0., 10., 12., 10.,\n",
       "       16., 10.,  0.,  0.,  0.,  0.,  0.,  6., 16.,  2.,  0.,  0.])"
      ]
     },
     "execution_count": 26,
     "metadata": {},
     "output_type": "execute_result"
    }
   ],
   "source": [
    "X_train[0]"
   ]
  },
  {
   "cell_type": "code",
   "execution_count": 27,
   "metadata": {},
   "outputs": [
    {
     "data": {
      "text/plain": [
       "array([ 0.        , -0.35530978, -1.10813628, -1.94267032,  0.73889945,\n",
       "        0.05167137, -0.40183839, -0.12249676, -0.05760195, -0.63272168,\n",
       "       -1.99555289,  0.24819837,  0.58240087, -1.1856311 , -0.51261039,\n",
       "       -0.12400944, -0.04453802, -0.72663898, -0.50824588,  1.58623486,\n",
       "       -0.80979601, -1.25070269, -0.55316874, -0.11208582, -0.03856149,\n",
       "        0.49317659,  0.97114649, -0.13808323, -1.60435961, -0.4223247 ,\n",
       "       -0.61872863, -0.02725696,  0.        ,  2.49504273,  0.99680246,\n",
       "       -1.29805404, -0.72501235,  1.22258731,  0.59568028,  0.        ,\n",
       "        6.3393133 ,  4.95947298,  1.0612487 ,  0.75270657,  1.35415583,\n",
       "        1.3494101 , -0.12205756, -0.09334883, -0.03856149,  5.41465192,\n",
       "        0.78434186,  0.09095421,  1.27619782,  0.18794902, -0.76646078,\n",
       "       -0.21377744,  0.        , -0.32263582, -1.09982558, -1.47623864,\n",
       "        0.8502854 , -0.81233275, -0.50734698, -0.19260118])"
      ]
     },
     "execution_count": 27,
     "metadata": {},
     "output_type": "execute_result"
    }
   ],
   "source": [
    "X_train_scaled[0]"
   ]
  },
  {
   "cell_type": "code",
   "execution_count": 25,
   "metadata": {},
   "outputs": [
    {
     "data": {
      "text/plain": [
       "0.9555555555555556"
      ]
     },
     "execution_count": 25,
     "metadata": {},
     "output_type": "execute_result"
    }
   ],
   "source": [
    "from sklearn.linear_model import LogisticRegression\n",
    "\n",
    "log_reg=LogisticRegression(multi_class=\"ovr\", solver=\"lbfgs\", max_iter=5000, random_state=42)\n",
    "log_reg.fit(X_train,y_train)\n",
    "\n",
    "log_reg.score(X_test,y_test)"
   ]
  },
  {
   "cell_type": "code",
   "execution_count": 28,
   "metadata": {},
   "outputs": [
    {
     "data": {
      "text/plain": [
       "0.9555555555555556"
      ]
     },
     "execution_count": 28,
     "metadata": {},
     "output_type": "execute_result"
    }
   ],
   "source": [
    "from sklearn.linear_model import LogisticRegression\n",
    "\n",
    "log_reg=LogisticRegression(multi_class=\"ovr\", solver=\"lbfgs\", max_iter=5000, random_state=42)\n",
    "log_reg.fit(X_train_scaled,y_train)\n",
    "\n",
    "log_reg.score(X_test_scaled,y_test)"
   ]
  },
  {
   "cell_type": "markdown",
   "metadata": {},
   "source": [
    "### Now try using KMeans for feature engineering\n",
    "* Cluster the data\n",
    "* Represent each instance by the distance from the centroid"
   ]
  },
  {
   "cell_type": "code",
   "execution_count": 29,
   "metadata": {},
   "outputs": [
    {
     "name": "stdout",
     "output_type": "stream",
     "text": [
      "Fitting 3 folds for each of 99 candidates, totalling 297 fits\n"
     ]
    },
    {
     "data": {
      "text/plain": [
       "GridSearchCV(cv=3,\n",
       "             estimator=Pipeline(steps=[('cluster', KMeans()),\n",
       "                                       ('log_reg',\n",
       "                                        LogisticRegression(max_iter=5000,\n",
       "                                                           multi_class='ovr',\n",
       "                                                           random_state=42))]),\n",
       "             n_jobs=6, param_grid={'cluster__n_clusters': range(2, 200, 2)},\n",
       "             verbose=2)"
      ]
     },
     "execution_count": 29,
     "metadata": {},
     "output_type": "execute_result"
    }
   ],
   "source": [
    "from sklearn.cluster import KMeans\n",
    "from sklearn.pipeline import Pipeline\n",
    "from sklearn.model_selection import GridSearchCV\n",
    "\n",
    "pl_kmeans = Pipeline([\n",
    "    (\"cluster\",KMeans()), \n",
    "    (\"log_reg\",LogisticRegression(multi_class=\"ovr\", solver=\"lbfgs\", max_iter=5000, random_state=42)\n",
    "    )])\n",
    "\n",
    "param_grid = dict(cluster__n_clusters=range(2,200,2))\n",
    "\n",
    "grid_km_clf = GridSearchCV(pl_kmeans,param_grid,cv=3,verbose=2,n_jobs=6)\n",
    "\n",
    "grid_km_clf.fit(X_train,y_train)\n"
   ]
  },
  {
   "cell_type": "code",
   "execution_count": 32,
   "metadata": {},
   "outputs": [
    {
     "name": "stdout",
     "output_type": "stream",
     "text": [
      "0.9836674090571641\n",
      "{'cluster__n_clusters': 162}\n"
     ]
    },
    {
     "data": {
      "text/plain": [
       "0.9622222222222222"
      ]
     },
     "execution_count": 32,
     "metadata": {},
     "output_type": "execute_result"
    }
   ],
   "source": [
    "#Above outputs cleared because LogisticRegression constantly fails because of lack of scaling\n",
    "\n",
    "print(grid_km_clf.best_score_)\n",
    "print(grid_km_clf.best_params_)\n",
    "grid_km_clf.score(X_test,y_test)"
   ]
  },
  {
   "cell_type": "code",
   "execution_count": 40,
   "metadata": {},
   "outputs": [
    {
     "name": "stdout",
     "output_type": "stream",
     "text": [
      "Reduction in error rate from adding Kmeans (no subsequent scaling) 15.00%\n"
     ]
    }
   ],
   "source": [
    "error_reduction = -((1-grid_km_clf.score(X_test,y_test)-(1-log_reg.score(X_test_scaled,y_test)))/(1-log_reg.score(X_test_scaled,y_test)))\n",
    "print (f\"Reduction in error rate from adding Kmeans (no subsequent scaling) {error_reduction:.2%}\")\n"
   ]
  },
  {
   "cell_type": "code",
   "execution_count": 48,
   "metadata": {},
   "outputs": [
    {
     "name": "stdout",
     "output_type": "stream",
     "text": [
      "Fitting 3 folds for each of 99 candidates, totalling 297 fits\n"
     ]
    },
    {
     "data": {
      "text/plain": [
       "GridSearchCV(cv=3,\n",
       "             estimator=Pipeline(steps=[('cluster', KMeans(n_init=40)),\n",
       "                                       ('scaler', StandardScaler()),\n",
       "                                       ('log_reg',\n",
       "                                        LogisticRegression(max_iter=5000,\n",
       "                                                           multi_class='ovr',\n",
       "                                                           random_state=42))]),\n",
       "             n_jobs=6, param_grid={'cluster__n_clusters': range(2, 200, 2)},\n",
       "             verbose=2)"
      ]
     },
     "execution_count": 48,
     "metadata": {},
     "output_type": "execute_result"
    }
   ],
   "source": [
    "#Now try scaling the output from KMeans\n",
    "pl_kmeans_scaled = Pipeline([\n",
    "    (\"cluster\",KMeans(n_init=40)), \n",
    "    (\"scaler\",StandardScaler()),\n",
    "    (\"log_reg\",LogisticRegression(multi_class=\"ovr\", solver=\"lbfgs\", max_iter=5000, random_state=42))\n",
    "    ])\n",
    "\n",
    "param_grid = dict(cluster__n_clusters=range(2,200,2))\n",
    "\n",
    "grid_km_scaled_clf = GridSearchCV(pl_kmeans_scaled,param_grid,cv=3,verbose=2,n_jobs=6)\n",
    "#Not using scaled data as will be scaling after the kmeans step\n",
    "grid_km_scaled_clf.fit(X_train,y_train)"
   ]
  },
  {
   "cell_type": "code",
   "execution_count": 49,
   "metadata": {},
   "outputs": [
    {
     "name": "stdout",
     "output_type": "stream",
     "text": [
      "0.9821826280623608\n",
      "{'cluster__n_clusters': 152}\n"
     ]
    },
    {
     "data": {
      "text/plain": [
       "0.9622222222222222"
      ]
     },
     "execution_count": 49,
     "metadata": {},
     "output_type": "execute_result"
    }
   ],
   "source": [
    "print(grid_km_scaled_clf.best_score_)\n",
    "print(grid_km_scaled_clf.best_params_)\n",
    "grid_km_scaled_clf.score(X_test,y_test)"
   ]
  },
  {
   "cell_type": "markdown",
   "metadata": {},
   "source": [
    "* Scaling speeds convergence of Logistic Regression\n",
    "* no evidence of non-convergence from unscaled - just takes roughly 4 times longer\n",
    "* Using these extra cycles to enhance quality of the clustering algorithm (by increasing the number of initial centroids used):\n",
    "    * little benefit observed\n"
   ]
  },
  {
   "cell_type": "markdown",
   "metadata": {},
   "source": [
    "Kmeans clustering pre-processing does not improve\n",
    "* raw RFC gets 96.89% \n",
    "* k means gets 96.67%"
   ]
  },
  {
   "cell_type": "code",
   "execution_count": 102,
   "metadata": {},
   "outputs": [
    {
     "name": "stdout",
     "output_type": "stream",
     "text": [
      "Raw RFC performance 96.89%\n"
     ]
    }
   ],
   "source": [
    "from sklearn.ensemble import RandomForestClassifier\n",
    "\n",
    "clf_RFC = RandomForestClassifier(random_state=42,n_estimators=1000)\n",
    "\n",
    "clf_RFC.fit(X_train,y_train)\n",
    "print(f\"Raw RFC performance {clf_RFC.score(X_test,y_test):.2%}\")"
   ]
  },
  {
   "cell_type": "code",
   "execution_count": 107,
   "metadata": {},
   "outputs": [
    {
     "name": "stdout",
     "output_type": "stream",
     "text": [
      "Max Kmeans RFC performance 96.22%\n"
     ]
    }
   ],
   "source": [
    "rfc_score=[]\n",
    "for clusters in range(2,200,2):\n",
    "    KM = KMeans(n_clusters=clusters).fit(X_train,y_train)\n",
    "    X_Kmeans = KM.transform(X_train) #X_means is now cluster distances\n",
    "    rfc = RandomForestClassifier(random_state=42,n_estimators=1000)\n",
    "    rfc.fit(X_Kmeans,y_train)\n",
    "    x_test_Kmeans = KM.transform(X_test)\n",
    "    rfc_score.append(rfc.score(x_test_Kmeans,y_test))\n",
    "\n",
    "print(f\"Max Kmeans RFC performance {max(rfc_score):.2%}\")"
   ]
  },
  {
   "cell_type": "code",
   "execution_count": 104,
   "metadata": {},
   "outputs": [
    {
     "data": {
      "image/png": "[encoded data removed]",
      "text/plain": [
       "<Figure size 432x288 with 1 Axes>"
      ]
     },
     "metadata": {
      "needs_background": "light"
     },
     "output_type": "display_data"
    },
    {
     "name": "stdout",
     "output_type": "stream",
     "text": [
      "Max Kmeans RFC performance 96.67%\n"
     ]
    }
   ],
   "source": [
    "import matplotlib.pyplot as plt\n",
    "\n",
    "plt.scatter(range(2,200,2),rfc_score)\n",
    "plt.show()\n",
    "\n",
    "print(f\"Max Kmeans RFC performance {max(rfc_score):.2%}\")"
   ]
  }
 ],
 "metadata": {
  "kernelspec": {
   "display_name": "Python 3.8.8 ('PandasNumpyMathplotlib')",
   "language": "python",
   "name": "python3"
  },
  "language_info": {
   "codemirror_mode": {
    "name": "ipython",
    "version": 3
   },
   "file_extension": ".py",
   "mimetype": "text/x-python",
   "name": "python",
   "nbconvert_exporter": "python",
   "pygments_lexer": "ipython3",
   "version": "3.8.8"
  },
  "orig_nbformat": 4,
  "vscode": {
   "interpreter": {
    "hash": "40a6d3daba109dd36035c486cbe134237beb3103005e5f3b9c526cde33e5461d"
   }
  }
 },
 "nbformat": 4,
 "nbformat_minor": 2
}
